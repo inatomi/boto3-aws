{
 "cells": [
  {
   "cell_type": "markdown",
   "metadata": {
    "collapsed": false
   },
   "source": [
    "# connect aws session"
   ]
  },
  {
   "cell_type": "code",
   "execution_count": 1,
   "metadata": {
    "collapsed": true
   },
   "outputs": [],
   "source": [
    "import boto3\n",
    "from boto3.session import Session\n",
    "\n",
    "session = Session(aws_access_key_id='XXXX',\n",
    "                  aws_secret_access_key='YYYY',\n",
    "                  region_name='ap-northeast-1')"
   ]
  },
  {
   "cell_type": "markdown",
   "metadata": {},
   "source": [
    "# get dynamodb resource"
   ]
  },
  {
   "cell_type": "code",
   "execution_count": 2,
   "metadata": {
    "collapsed": false
   },
   "outputs": [],
   "source": [
    "dynamodb = session.resource('dynamodb')"
   ]
  },
  {
   "cell_type": "markdown",
   "metadata": {},
   "source": [
    "# display dynamodb tables and drop table"
   ]
  },
  {
   "cell_type": "code",
   "execution_count": 3,
   "metadata": {
    "collapsed": false
   },
   "outputs": [
    {
     "name": "stdout",
     "output_type": "stream",
     "text": [
      "coffee\n"
     ]
    }
   ],
   "source": [
    "tables = dynamodb.tables.all()\n",
    "for table in tables:\n",
    "    print table.name\n",
    "    if table.name == 'coffee':\n",
    "        table.delete()"
   ]
  },
  {
   "cell_type": "markdown",
   "metadata": {},
   "source": [
    "# create new coffee table"
   ]
  },
  {
   "cell_type": "code",
   "execution_count": 5,
   "metadata": {
    "collapsed": false
   },
   "outputs": [],
   "source": [
    "table = dynamodb.create_table(\n",
    "    AttributeDefinitions=[\n",
    "        {\n",
    "            'AttributeName': 'user_id',\n",
    "            'AttributeType': 'N'\n",
    "        },\n",
    "        {\n",
    "            'AttributeName': 'time',\n",
    "            'AttributeType': 'S'\n",
    "        },\n",
    "    ],\n",
    "    TableName='coffee',\n",
    "    KeySchema=[\n",
    "        {\n",
    "            'AttributeName': 'user_id',\n",
    "            'KeyType': 'HASH'  #Partition key\n",
    "        },\n",
    "        {\n",
    "            'AttributeName': 'time',\n",
    "            'KeyType': 'RANGE'  #Sort key\n",
    "        }\n",
    "    ],\n",
    "    ProvisionedThroughput={\n",
    "        'ReadCapacityUnits': 30,\n",
    "        'WriteCapacityUnits': 30\n",
    "    }\n",
    ")"
   ]
  },
  {
   "cell_type": "markdown",
   "metadata": {},
   "source": [
    "# insert table(coffee)"
   ]
  },
  {
   "cell_type": "code",
   "execution_count": 10,
   "metadata": {
    "collapsed": false
   },
   "outputs": [],
   "source": [
    "response = coffee_table.put_item(\n",
    "   Item={\n",
    "        'user_id': 2,\n",
    "        'time': '3',\n",
    "        'info': 'test'\n",
    "    }\n",
    ")"
   ]
  },
  {
   "cell_type": "markdown",
   "metadata": {},
   "source": [
    "# create json decoder function\n",
    "### Helper class to convert a DynamoDB item to JSON."
   ]
  },
  {
   "cell_type": "code",
   "execution_count": null,
   "metadata": {
    "collapsed": true
   },
   "outputs": [],
   "source": [
    "class DecimalEncoder(json.JSONEncoder):\n",
    "    def default(self, o):\n",
    "        if isinstance(o, decimal.Decimal):\n",
    "            if o % 1 > 0:\n",
    "                return float(o)\n",
    "            else:\n",
    "                return int(o)\n",
    "        return super(DecimalEncoder, self).default(o)"
   ]
  }
 ],
 "metadata": {
  "kernelspec": {
   "display_name": "Python 2",
   "language": "python",
   "name": "python2"
  },
  "language_info": {
   "codemirror_mode": {
    "name": "ipython",
    "version": 2
   },
   "file_extension": ".py",
   "mimetype": "text/x-python",
   "name": "python",
   "nbconvert_exporter": "python",
   "pygments_lexer": "ipython2",
   "version": "2.7.13"
  }
 },
 "nbformat": 4,
 "nbformat_minor": 2
}
