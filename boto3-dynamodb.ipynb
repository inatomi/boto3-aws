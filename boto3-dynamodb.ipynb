{
 "cells": [
  {
   "cell_type": "markdown",
   "metadata": {},
   "source": [
    "# basic dynamodb with boto3"
   ]
  },
  {
   "cell_type": "markdown",
   "metadata": {},
   "source": [
    "* configure AWS Settings"
   ]
  },
  {
   "cell_type": "code",
   "execution_count": 1,
   "metadata": {
    "collapsed": false
   },
   "outputs": [],
   "source": [
    "from ipywidgets import widgets\n",
    "from IPython.display import display\n",
    "access_key = widgets.Text(description=\"access key\",width=400)\n",
    "secret_access_key = widgets.Text(description=\"secret key\",width=400)\n",
    "display(access_key)\n",
    "display(secret_access_key)"
   ]
  },
  {
   "cell_type": "markdown",
   "metadata": {},
   "source": [
    "* print AWS Settings"
   ]
  },
  {
   "cell_type": "code",
   "execution_count": null,
   "metadata": {
    "collapsed": false
   },
   "outputs": [],
   "source": [
    "#print access_key.value\n",
    "#print secret_access_key.value"
   ]
  },
  {
   "cell_type": "markdown",
   "metadata": {
    "collapsed": false
   },
   "source": [
    "* create AWS session"
   ]
  },
  {
   "cell_type": "code",
   "execution_count": 2,
   "metadata": {
    "collapsed": true
   },
   "outputs": [],
   "source": [
    "import boto3\n",
    "from boto3.session import Session\n",
    "\n",
    "session = Session(aws_access_key_id=access_key.value,\n",
    "                  aws_secret_access_key=secret_access_key.value,\n",
    "                  region_name='ap-northeast-1')"
   ]
  },
  {
   "cell_type": "markdown",
   "metadata": {},
   "source": [
    "* get dynamodb resource"
   ]
  },
  {
   "cell_type": "code",
   "execution_count": 3,
   "metadata": {
    "collapsed": false
   },
   "outputs": [],
   "source": [
    "dynamodb = session.resource('dynamodb')"
   ]
  },
  {
   "cell_type": "markdown",
   "metadata": {},
   "source": [
    "* display dynamodb tables and drop table"
   ]
  },
  {
   "cell_type": "code",
   "execution_count": 4,
   "metadata": {
    "collapsed": false
   },
   "outputs": [
    {
     "name": "stdout",
     "output_type": "stream",
     "text": [
      "coffee\n"
     ]
    }
   ],
   "source": [
    "tables = dynamodb.tables.all()\n",
    "for table in tables:\n",
    "    print table.name\n",
    "    if table.name == 'coffee':\n",
    "        table.delete()"
   ]
  },
  {
   "cell_type": "markdown",
   "metadata": {},
   "source": [
    "* create new coffee table"
   ]
  },
  {
   "cell_type": "code",
   "execution_count": 5,
   "metadata": {
    "collapsed": false
   },
   "outputs": [],
   "source": [
    "table = dynamodb.create_table(\n",
    "    AttributeDefinitions=[\n",
    "        {\n",
    "            'AttributeName': 'user_id',\n",
    "            'AttributeType': 'N'\n",
    "        },\n",
    "        {\n",
    "            'AttributeName': 'time',\n",
    "            'AttributeType': 'S'\n",
    "        },\n",
    "    ],\n",
    "    TableName='coffee',\n",
    "    KeySchema=[\n",
    "        {\n",
    "            'AttributeName': 'user_id',\n",
    "            'KeyType': 'HASH'  #Partition key\n",
    "        },\n",
    "        {\n",
    "            'AttributeName': 'time',\n",
    "            'KeyType': 'RANGE'  #Sort key\n",
    "        }\n",
    "    ],\n",
    "    ProvisionedThroughput={\n",
    "        'ReadCapacityUnits': 30,\n",
    "        'WriteCapacityUnits': 30\n",
    "    }\n",
    ")"
   ]
  },
  {
   "cell_type": "markdown",
   "metadata": {},
   "source": [
    "* insert data into coffee table"
   ]
  },
  {
   "cell_type": "code",
   "execution_count": 6,
   "metadata": {
    "collapsed": false
   },
   "outputs": [],
   "source": [
    "import datetime\n",
    "\n",
    "response = table.put_item(\n",
    "   Item={\n",
    "        'user_id': 1,\n",
    "        'time': datetime.datetime.now().strftime('%Y-%m-%d %H:%M:%S'),\n",
    "        'info': 'test1'\n",
    "    }\n",
    ")\n",
    "response = table.put_item(\n",
    "   Item={\n",
    "        'user_id': 2,\n",
    "        'time': datetime.datetime.now().strftime('%Y-%m-%d %H:%M:%S'),\n",
    "        'info': 'test2'\n",
    "    }\n",
    ")\n",
    "response = table.put_item(\n",
    "   Item={\n",
    "        'user_id': 3,\n",
    "        'time': datetime.datetime.now().strftime('%Y-%m-%d %H:%M:%S'),\n",
    "        'info': 'test3'\n",
    "    }\n",
    ")"
   ]
  },
  {
   "cell_type": "markdown",
   "metadata": {},
   "source": [
    "* query"
   ]
  },
  {
   "cell_type": "code",
   "execution_count": 7,
   "metadata": {
    "collapsed": false
   },
   "outputs": [
    {
     "name": "stdout",
     "output_type": "stream",
     "text": [
      "(Decimal('1'), ':', u'2017-04-17 10:05:25', ':', u'test1')\n"
     ]
    }
   ],
   "source": [
    "from boto3.dynamodb.conditions import Key, Attr\n",
    "\n",
    "response = table.query(\n",
    "    KeyConditionExpression=Key('user_id').eq(1)\n",
    ")\n",
    "\n",
    "for i in response['Items']:\n",
    "    print(i['user_id'], \":\", i['time'], \":\", i['info'])"
   ]
  },
  {
   "cell_type": "markdown",
   "metadata": {},
   "source": [
    "* get all items"
   ]
  },
  {
   "cell_type": "code",
   "execution_count": 8,
   "metadata": {
    "collapsed": false
   },
   "outputs": [
    {
     "name": "stdout",
     "output_type": "stream",
     "text": [
      "(Decimal('3'), ':', u'2017-04-17 10:05:25', ':', u'test3')\n",
      "(Decimal('2'), ':', u'2017-04-17 10:05:25', ':', u'test2')\n",
      "(Decimal('1'), ':', u'2017-04-17 10:05:25', ':', u'test1')\n"
     ]
    }
   ],
   "source": [
    "response = table.scan()\n",
    "for i in response['Items']:\n",
    "    print(i['user_id'], \":\", i['time'], \":\", i['info'])"
   ]
  },
  {
   "cell_type": "markdown",
   "metadata": {},
   "source": [
    "* get item"
   ]
  },
  {
   "cell_type": "code",
   "execution_count": 9,
   "metadata": {
    "collapsed": false,
    "scrolled": true
   },
   "outputs": [
    {
     "name": "stdout",
     "output_type": "stream",
     "text": [
      "(Decimal('1'), ':', u'2017-04-17 10:05:25', ':', u'test1')\n"
     ]
    }
   ],
   "source": [
    "response = table.get_item(\n",
    "    Key={\n",
    "        'user_id': 1,\n",
    "        'time': '2017-04-17 10:05:25'\n",
    "    }\n",
    ")\n",
    "print(response['Item']['user_id'], \":\", response['Item']['time'], \":\", response['Item']['info'])"
   ]
  },
  {
   "cell_type": "markdown",
   "metadata": {},
   "source": [
    "* create json decoder function"
   ]
  },
  {
   "cell_type": "code",
   "execution_count": 10,
   "metadata": {
    "collapsed": true
   },
   "outputs": [],
   "source": [
    "import json\n",
    "import decimal\n",
    "#Helper class to convert a DynamoDB item to JSON.\n",
    "class DecimalEncoder(json.JSONEncoder):\n",
    "    def default(self, o):\n",
    "        if isinstance(o, decimal.Decimal):\n",
    "            if o % 1 > 0:\n",
    "                return float(o)\n",
    "            else:\n",
    "                return int(o)\n",
    "        return super(DecimalEncoder, self).default(o)"
   ]
  },
  {
   "cell_type": "markdown",
   "metadata": {},
   "source": [
    "* convert data to json"
   ]
  },
  {
   "cell_type": "code",
   "execution_count": 11,
   "metadata": {
    "collapsed": false
   },
   "outputs": [
    {
     "name": "stdout",
     "output_type": "stream",
     "text": [
      "{\n",
      "    \"info\": \"test1\", \n",
      "    \"user_id\": 1, \n",
      "    \"time\": \"2017-04-17 10:05:25\"\n",
      "}\n"
     ]
    }
   ],
   "source": [
    "item = response['Item']\n",
    "print(json.dumps(item, indent=4, cls=DecimalEncoder))"
   ]
  },
  {
   "cell_type": "markdown",
   "metadata": {},
   "source": [
    "* delete item"
   ]
  },
  {
   "cell_type": "code",
   "execution_count": 12,
   "metadata": {
    "collapsed": false
   },
   "outputs": [],
   "source": [
    "response = table.delete_item(\n",
    "    Key={\n",
    "        'user_id': 1,\n",
    "        'time': '2017-04-17 10:05:25'\n",
    "    }\n",
    ") "
   ]
  }
 ],
 "metadata": {
  "kernelspec": {
   "display_name": "Python 2",
   "language": "python",
   "name": "python2"
  },
  "language_info": {
   "codemirror_mode": {
    "name": "ipython",
    "version": 2
   },
   "file_extension": ".py",
   "mimetype": "text/x-python",
   "name": "python",
   "nbconvert_exporter": "python",
   "pygments_lexer": "ipython2",
   "version": "2.7.13"
  },
  "widgets": {
   "state": {
    "45b1f2311bc7448f98d7976ea73650a2": {
     "views": [
      {
       "cell_index": 2
      }
     ]
    },
    "4a9fade835f945808caaa836d11e39ba": {
     "views": [
      {
       "cell_index": 2
      }
     ]
    }
   },
   "version": "1.2.0"
  }
 },
 "nbformat": 4,
 "nbformat_minor": 2
}
